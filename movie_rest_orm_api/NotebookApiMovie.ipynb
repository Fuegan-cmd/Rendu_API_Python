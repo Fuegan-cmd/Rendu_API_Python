{
 "cells": [
  {
   "cell_type": "code",
   "execution_count": 3,
   "metadata": {},
   "outputs": [],
   "source": [
    "import pandas as pd\n",
    "import requests\n",
    "from datetime import datetime, date"
   ]
  },
  {
   "cell_type": "code",
   "execution_count": null,
   "metadata": {},
   "outputs": [],
   "source": [
    "def get_movies_stats_by_year(db:Session):\n",
    "    query = db.query(models.Movie.year,func.count(),func.min(models.Movie.duration),func.max(models.Movie.duration),func.avg(models.Movie.duration)).group_by(models.Movie.year).order_by(models.Movie.year).all()\n",
    "    return [{\"year\":i[0],\"counter\":i[1] ,\"mini\":i[2], \"maxi\":i[3], \"avg\":i[4]} for i in query]"
   ]
  },
  {
   "cell_type": "code",
   "execution_count": null,
   "metadata": {},
   "outputs": [],
   "source": [
    "limit = 1500\n",
    "dfMovies = pd.read_json(f'http://localhost:8000/movies?limit={limit}')\n",
    "dfMovies.set_index('id', inplace=True)\n",
    "dfMovies"
   ]
  },
  {
   "cell_type": "code",
   "execution_count": null,
   "metadata": {},
   "outputs": [],
   "source": [
    "type(dfMovies)"
   ]
  },
  {
   "cell_type": "code",
   "execution_count": null,
   "metadata": {},
   "outputs": [],
   "source": [
    "dfStatsMovieByYear = pd.read_json('http://localhost:8000/movies/count_by_year')\n",
    "dfStatsMovieByYear.columns=['year', 'movie_count']\n",
    "#dfStatsMovieByYear.set_index('year', inplace=True)\n",
    "dfStatsMovieByYear"
   ]
  },
  {
   "cell_type": "code",
   "execution_count": null,
   "metadata": {},
   "outputs": [],
   "source": [
    "# le résultat n'est pas fameux\n",
    "dfStatsMovieByDirector = pd.read_json('http://localhost:8000/stars/stats_movie_by_director')\n",
    "dfStatsMovieByDirector"
   ]
  },
  {
   "cell_type": "code",
   "execution_count": null,
   "metadata": {},
   "outputs": [],
   "source": [
    "response = requests.get('http://localhost:8000/stars/stats_movie_by_director')\n",
    "response"
   ]
  },
  {
   "cell_type": "code",
   "execution_count": null,
   "metadata": {},
   "outputs": [],
   "source": [
    "if response.status_code == 200:\n",
    "    print('Response OK')\n",
    "else:\n",
    "    print('Error', response.status_code, response.json(), sep=', ')"
   ]
  },
  {
   "cell_type": "code",
   "execution_count": null,
   "metadata": {},
   "outputs": [],
   "source": [
    "data_json = response.json()\n",
    "data_json"
   ]
  },
  {
   "cell_type": "code",
   "execution_count": 27,
   "metadata": {
    "collapsed": true,
    "jupyter": {
     "outputs_hidden": true
    }
   },
   "outputs": [
    {
     "data": {
      "text/plain": [
       "[(33, 'Alfred Hitchcock', '1899-08-13', 60),\n",
       " (217, 'Martin Scorsese', '1942-11-17', 48),\n",
       " (229, 'Steven Spielberg', '1946-12-18', 41),\n",
       " (142, 'Clint Eastwood', '1930-05-31', 39),\n",
       " (361, 'Brian De Palma', '1940-09-11', 38),\n",
       " (631, 'Ridley Scott', '1937-11-30', 35),\n",
       " (247, 'John Woo', '1946-09-22', 34),\n",
       " (2588606, 'Steve McQueen', '1969-10-09', 31),\n",
       " (600, 'Sam Raimi', '1959-10-23', 31),\n",
       " (406, 'John Ford', None, 20),\n",
       " (1392, 'Peter Jackson', '1961-10-31', 19),\n",
       " (965, 'Danny Boyle', '1956-10-20', 18),\n",
       " (233, 'Quentin Tarantino', '1963-03-27', 14),\n",
       " (116, 'James Cameron', '1954-08-16', 14),\n",
       " (250445, 'Walter Edwards', None, 14),\n",
       " (102908, 'Robert N. Bradbury', None, 13),\n",
       " (634240, 'Christopher Nolan', '1970-07-30', 13),\n",
       " (94435, 'Bong Joon Ho', '1969-09-14', 12),\n",
       " (1053, 'Ethan Coen', '1957-09-21', 12),\n",
       " (1054, 'Joel Coen', '1954-11-29', 11)]"
      ]
     },
     "execution_count": 27,
     "metadata": {},
     "output_type": "execute_result"
    }
   ],
   "source": [
    "# applatir en liste de tuples\n",
    "data_flatten = [ (director_dict['id'], director_dict['name'], director_dict['birthdate'], movie_count )  \n",
    "         for director_dict, movie_count in data_json ]\n",
    "data_flatten"
   ]
  },
  {
   "cell_type": "code",
   "execution_count": 33,
   "metadata": {},
   "outputs": [
    {
     "data": {
      "text/plain": [
       "[{'id': 33,\n",
       "  'name': 'Alfred Hitchcock',\n",
       "  'birthdate': '1899-08-13',\n",
       "  'movie_count': 60},\n",
       " {'id': 217,\n",
       "  'name': 'Martin Scorsese',\n",
       "  'birthdate': '1942-11-17',\n",
       "  'movie_count': 48},\n",
       " {'id': 229,\n",
       "  'name': 'Steven Spielberg',\n",
       "  'birthdate': '1946-12-18',\n",
       "  'movie_count': 41},\n",
       " {'id': 142,\n",
       "  'name': 'Clint Eastwood',\n",
       "  'birthdate': '1930-05-31',\n",
       "  'movie_count': 39},\n",
       " {'id': 361,\n",
       "  'name': 'Brian De Palma',\n",
       "  'birthdate': '1940-09-11',\n",
       "  'movie_count': 38},\n",
       " {'id': 631,\n",
       "  'name': 'Ridley Scott',\n",
       "  'birthdate': '1937-11-30',\n",
       "  'movie_count': 35},\n",
       " {'id': 247, 'name': 'John Woo', 'birthdate': '1946-09-22', 'movie_count': 34},\n",
       " {'id': 2588606,\n",
       "  'name': 'Steve McQueen',\n",
       "  'birthdate': '1969-10-09',\n",
       "  'movie_count': 31},\n",
       " {'id': 600,\n",
       "  'name': 'Sam Raimi',\n",
       "  'birthdate': '1959-10-23',\n",
       "  'movie_count': 31},\n",
       " {'id': 406, 'name': 'John Ford', 'birthdate': None, 'movie_count': 20},\n",
       " {'id': 1392,\n",
       "  'name': 'Peter Jackson',\n",
       "  'birthdate': '1961-10-31',\n",
       "  'movie_count': 19},\n",
       " {'id': 965,\n",
       "  'name': 'Danny Boyle',\n",
       "  'birthdate': '1956-10-20',\n",
       "  'movie_count': 18},\n",
       " {'id': 233,\n",
       "  'name': 'Quentin Tarantino',\n",
       "  'birthdate': '1963-03-27',\n",
       "  'movie_count': 14},\n",
       " {'id': 116,\n",
       "  'name': 'James Cameron',\n",
       "  'birthdate': '1954-08-16',\n",
       "  'movie_count': 14},\n",
       " {'id': 250445,\n",
       "  'name': 'Walter Edwards',\n",
       "  'birthdate': None,\n",
       "  'movie_count': 14},\n",
       " {'id': 102908,\n",
       "  'name': 'Robert N. Bradbury',\n",
       "  'birthdate': None,\n",
       "  'movie_count': 13},\n",
       " {'id': 634240,\n",
       "  'name': 'Christopher Nolan',\n",
       "  'birthdate': '1970-07-30',\n",
       "  'movie_count': 13},\n",
       " {'id': 94435,\n",
       "  'name': 'Bong Joon Ho',\n",
       "  'birthdate': '1969-09-14',\n",
       "  'movie_count': 12},\n",
       " {'id': 1053,\n",
       "  'name': 'Ethan Coen',\n",
       "  'birthdate': '1957-09-21',\n",
       "  'movie_count': 12},\n",
       " {'id': 1054,\n",
       "  'name': 'Joel Coen',\n",
       "  'birthdate': '1954-11-29',\n",
       "  'movie_count': 11}]"
      ]
     },
     "execution_count": 33,
     "metadata": {},
     "output_type": "execute_result"
    }
   ],
   "source": [
    "# applatir en list de dicts\n",
    "data_flatten = [ {**director_dict, 'movie_count': movie_count }  \n",
    "         for director_dict, movie_count in data_json ]\n",
    "data_flatten"
   ]
  },
  {
   "cell_type": "code",
   "execution_count": 34,
   "metadata": {
    "collapsed": true,
    "jupyter": {
     "outputs_hidden": true
    }
   },
   "outputs": [
    {
     "data": {
      "text/html": [
       "<div>\n",
       "<style scoped>\n",
       "    .dataframe tbody tr th:only-of-type {\n",
       "        vertical-align: middle;\n",
       "    }\n",
       "\n",
       "    .dataframe tbody tr th {\n",
       "        vertical-align: top;\n",
       "    }\n",
       "\n",
       "    .dataframe thead th {\n",
       "        text-align: right;\n",
       "    }\n",
       "</style>\n",
       "<table border=\"1\" class=\"dataframe\">\n",
       "  <thead>\n",
       "    <tr style=\"text-align: right;\">\n",
       "      <th></th>\n",
       "      <th>name</th>\n",
       "      <th>birthdate</th>\n",
       "      <th>movie_count</th>\n",
       "    </tr>\n",
       "    <tr>\n",
       "      <th>id</th>\n",
       "      <th></th>\n",
       "      <th></th>\n",
       "      <th></th>\n",
       "    </tr>\n",
       "  </thead>\n",
       "  <tbody>\n",
       "    <tr>\n",
       "      <td>33</td>\n",
       "      <td>Alfred Hitchcock</td>\n",
       "      <td>1899-08-13</td>\n",
       "      <td>60</td>\n",
       "    </tr>\n",
       "    <tr>\n",
       "      <td>217</td>\n",
       "      <td>Martin Scorsese</td>\n",
       "      <td>1942-11-17</td>\n",
       "      <td>48</td>\n",
       "    </tr>\n",
       "    <tr>\n",
       "      <td>229</td>\n",
       "      <td>Steven Spielberg</td>\n",
       "      <td>1946-12-18</td>\n",
       "      <td>41</td>\n",
       "    </tr>\n",
       "    <tr>\n",
       "      <td>142</td>\n",
       "      <td>Clint Eastwood</td>\n",
       "      <td>1930-05-31</td>\n",
       "      <td>39</td>\n",
       "    </tr>\n",
       "    <tr>\n",
       "      <td>361</td>\n",
       "      <td>Brian De Palma</td>\n",
       "      <td>1940-09-11</td>\n",
       "      <td>38</td>\n",
       "    </tr>\n",
       "    <tr>\n",
       "      <td>631</td>\n",
       "      <td>Ridley Scott</td>\n",
       "      <td>1937-11-30</td>\n",
       "      <td>35</td>\n",
       "    </tr>\n",
       "    <tr>\n",
       "      <td>247</td>\n",
       "      <td>John Woo</td>\n",
       "      <td>1946-09-22</td>\n",
       "      <td>34</td>\n",
       "    </tr>\n",
       "    <tr>\n",
       "      <td>2588606</td>\n",
       "      <td>Steve McQueen</td>\n",
       "      <td>1969-10-09</td>\n",
       "      <td>31</td>\n",
       "    </tr>\n",
       "    <tr>\n",
       "      <td>600</td>\n",
       "      <td>Sam Raimi</td>\n",
       "      <td>1959-10-23</td>\n",
       "      <td>31</td>\n",
       "    </tr>\n",
       "    <tr>\n",
       "      <td>406</td>\n",
       "      <td>John Ford</td>\n",
       "      <td>None</td>\n",
       "      <td>20</td>\n",
       "    </tr>\n",
       "    <tr>\n",
       "      <td>1392</td>\n",
       "      <td>Peter Jackson</td>\n",
       "      <td>1961-10-31</td>\n",
       "      <td>19</td>\n",
       "    </tr>\n",
       "    <tr>\n",
       "      <td>965</td>\n",
       "      <td>Danny Boyle</td>\n",
       "      <td>1956-10-20</td>\n",
       "      <td>18</td>\n",
       "    </tr>\n",
       "    <tr>\n",
       "      <td>233</td>\n",
       "      <td>Quentin Tarantino</td>\n",
       "      <td>1963-03-27</td>\n",
       "      <td>14</td>\n",
       "    </tr>\n",
       "    <tr>\n",
       "      <td>116</td>\n",
       "      <td>James Cameron</td>\n",
       "      <td>1954-08-16</td>\n",
       "      <td>14</td>\n",
       "    </tr>\n",
       "    <tr>\n",
       "      <td>250445</td>\n",
       "      <td>Walter Edwards</td>\n",
       "      <td>None</td>\n",
       "      <td>14</td>\n",
       "    </tr>\n",
       "    <tr>\n",
       "      <td>102908</td>\n",
       "      <td>Robert N. Bradbury</td>\n",
       "      <td>None</td>\n",
       "      <td>13</td>\n",
       "    </tr>\n",
       "    <tr>\n",
       "      <td>634240</td>\n",
       "      <td>Christopher Nolan</td>\n",
       "      <td>1970-07-30</td>\n",
       "      <td>13</td>\n",
       "    </tr>\n",
       "    <tr>\n",
       "      <td>94435</td>\n",
       "      <td>Bong Joon Ho</td>\n",
       "      <td>1969-09-14</td>\n",
       "      <td>12</td>\n",
       "    </tr>\n",
       "    <tr>\n",
       "      <td>1053</td>\n",
       "      <td>Ethan Coen</td>\n",
       "      <td>1957-09-21</td>\n",
       "      <td>12</td>\n",
       "    </tr>\n",
       "    <tr>\n",
       "      <td>1054</td>\n",
       "      <td>Joel Coen</td>\n",
       "      <td>1954-11-29</td>\n",
       "      <td>11</td>\n",
       "    </tr>\n",
       "  </tbody>\n",
       "</table>\n",
       "</div>"
      ],
      "text/plain": [
       "                       name   birthdate  movie_count\n",
       "id                                                  \n",
       "33         Alfred Hitchcock  1899-08-13           60\n",
       "217         Martin Scorsese  1942-11-17           48\n",
       "229        Steven Spielberg  1946-12-18           41\n",
       "142          Clint Eastwood  1930-05-31           39\n",
       "361          Brian De Palma  1940-09-11           38\n",
       "631            Ridley Scott  1937-11-30           35\n",
       "247                John Woo  1946-09-22           34\n",
       "2588606       Steve McQueen  1969-10-09           31\n",
       "600               Sam Raimi  1959-10-23           31\n",
       "406               John Ford        None           20\n",
       "1392          Peter Jackson  1961-10-31           19\n",
       "965             Danny Boyle  1956-10-20           18\n",
       "233       Quentin Tarantino  1963-03-27           14\n",
       "116           James Cameron  1954-08-16           14\n",
       "250445       Walter Edwards        None           14\n",
       "102908   Robert N. Bradbury        None           13\n",
       "634240    Christopher Nolan  1970-07-30           13\n",
       "94435          Bong Joon Ho  1969-09-14           12\n",
       "1053             Ethan Coen  1957-09-21           12\n",
       "1054              Joel Coen  1954-11-29           11"
      ]
     },
     "execution_count": 34,
     "metadata": {},
     "output_type": "execute_result"
    }
   ],
   "source": [
    "dfStatsMovieByDirector = pd.DataFrame(data_flatten)\n",
    "dfStatsMovieByDirector.set_index('id', inplace=True)\n",
    "dfStatsMovieByDirector"
   ]
  },
  {
   "cell_type": "code",
   "execution_count": 37,
   "metadata": {},
   "outputs": [
    {
     "data": {
      "text/plain": [
       "'1899-08-13'"
      ]
     },
     "execution_count": 37,
     "metadata": {},
     "output_type": "execute_result"
    }
   ],
   "source": [
    "dfStatsMovieByDirector.loc[33].birthdate"
   ]
  },
  {
   "cell_type": "code",
   "execution_count": 41,
   "metadata": {},
   "outputs": [
    {
     "data": {
      "text/plain": [
       "datetime.date(1899, 8, 13)"
      ]
     },
     "execution_count": 41,
     "metadata": {},
     "output_type": "execute_result"
    }
   ],
   "source": [
    "datetime.strptime('1899-08-13', '%Y-%m-%d').date()"
   ]
  },
  {
   "cell_type": "code",
   "execution_count": 42,
   "metadata": {},
   "outputs": [
    {
     "data": {
      "text/plain": [
       "datetime.date(1899, 8, 13)"
      ]
     },
     "execution_count": 42,
     "metadata": {},
     "output_type": "execute_result"
    }
   ],
   "source": [
    "date.fromisoformat('1899-08-13')"
   ]
  },
  {
   "cell_type": "code",
   "execution_count": 45,
   "metadata": {},
   "outputs": [
    {
     "data": {
      "text/html": [
       "<div>\n",
       "<style scoped>\n",
       "    .dataframe tbody tr th:only-of-type {\n",
       "        vertical-align: middle;\n",
       "    }\n",
       "\n",
       "    .dataframe tbody tr th {\n",
       "        vertical-align: top;\n",
       "    }\n",
       "\n",
       "    .dataframe thead th {\n",
       "        text-align: right;\n",
       "    }\n",
       "</style>\n",
       "<table border=\"1\" class=\"dataframe\">\n",
       "  <thead>\n",
       "    <tr style=\"text-align: right;\">\n",
       "      <th></th>\n",
       "      <th>name</th>\n",
       "      <th>birthdate</th>\n",
       "      <th>movie_count</th>\n",
       "    </tr>\n",
       "    <tr>\n",
       "      <th>id</th>\n",
       "      <th></th>\n",
       "      <th></th>\n",
       "      <th></th>\n",
       "    </tr>\n",
       "  </thead>\n",
       "  <tbody>\n",
       "    <tr>\n",
       "      <td>406</td>\n",
       "      <td>John Ford</td>\n",
       "      <td>None</td>\n",
       "      <td>20</td>\n",
       "    </tr>\n",
       "    <tr>\n",
       "      <td>250445</td>\n",
       "      <td>Walter Edwards</td>\n",
       "      <td>None</td>\n",
       "      <td>14</td>\n",
       "    </tr>\n",
       "    <tr>\n",
       "      <td>102908</td>\n",
       "      <td>Robert N. Bradbury</td>\n",
       "      <td>None</td>\n",
       "      <td>13</td>\n",
       "    </tr>\n",
       "  </tbody>\n",
       "</table>\n",
       "</div>"
      ],
      "text/plain": [
       "                      name birthdate  movie_count\n",
       "id                                               \n",
       "406              John Ford      None           20\n",
       "250445      Walter Edwards      None           14\n",
       "102908  Robert N. Bradbury      None           13"
      ]
     },
     "execution_count": 45,
     "metadata": {},
     "output_type": "execute_result"
    }
   ],
   "source": [
    "dfStatsMovieByDirector[dfStatsMovieByDirector.birthdate.isnull()]"
   ]
  },
  {
   "cell_type": "code",
   "execution_count": 47,
   "metadata": {
    "collapsed": true,
    "jupyter": {
     "outputs_hidden": true
    }
   },
   "outputs": [
    {
     "data": {
      "text/plain": [
       "id\n",
       "33         1899-08-13\n",
       "217        1942-11-17\n",
       "229        1946-12-18\n",
       "142        1930-05-31\n",
       "361        1940-09-11\n",
       "631        1937-11-30\n",
       "247        1946-09-22\n",
       "2588606    1969-10-09\n",
       "600        1959-10-23\n",
       "1392       1961-10-31\n",
       "965        1956-10-20\n",
       "233        1963-03-27\n",
       "116        1954-08-16\n",
       "634240     1970-07-30\n",
       "94435      1969-09-14\n",
       "1053       1957-09-21\n",
       "1054       1954-11-29\n",
       "Name: birthdate, dtype: object"
      ]
     },
     "execution_count": 47,
     "metadata": {},
     "output_type": "execute_result"
    }
   ],
   "source": [
    "dfStatsMovieByDirector[~dfStatsMovieByDirector.birthdate.isnull()].birthdate.apply(date.fromisoformat)"
   ]
  },
  {
   "cell_type": "code",
   "execution_count": 49,
   "metadata": {},
   "outputs": [
    {
     "data": {
      "text/html": [
       "<div>\n",
       "<style scoped>\n",
       "    .dataframe tbody tr th:only-of-type {\n",
       "        vertical-align: middle;\n",
       "    }\n",
       "\n",
       "    .dataframe tbody tr th {\n",
       "        vertical-align: top;\n",
       "    }\n",
       "\n",
       "    .dataframe thead th {\n",
       "        text-align: right;\n",
       "    }\n",
       "</style>\n",
       "<table border=\"1\" class=\"dataframe\">\n",
       "  <thead>\n",
       "    <tr style=\"text-align: right;\">\n",
       "      <th></th>\n",
       "      <th>name</th>\n",
       "      <th>birthdate</th>\n",
       "      <th>movie_count</th>\n",
       "    </tr>\n",
       "    <tr>\n",
       "      <th>id</th>\n",
       "      <th></th>\n",
       "      <th></th>\n",
       "      <th></th>\n",
       "    </tr>\n",
       "  </thead>\n",
       "  <tbody>\n",
       "    <tr>\n",
       "      <td>33</td>\n",
       "      <td>Alfred Hitchcock</td>\n",
       "      <td>1899-08-13</td>\n",
       "      <td>60</td>\n",
       "    </tr>\n",
       "    <tr>\n",
       "      <td>217</td>\n",
       "      <td>Martin Scorsese</td>\n",
       "      <td>1942-11-17</td>\n",
       "      <td>48</td>\n",
       "    </tr>\n",
       "    <tr>\n",
       "      <td>229</td>\n",
       "      <td>Steven Spielberg</td>\n",
       "      <td>1946-12-18</td>\n",
       "      <td>41</td>\n",
       "    </tr>\n",
       "    <tr>\n",
       "      <td>142</td>\n",
       "      <td>Clint Eastwood</td>\n",
       "      <td>1930-05-31</td>\n",
       "      <td>39</td>\n",
       "    </tr>\n",
       "    <tr>\n",
       "      <td>361</td>\n",
       "      <td>Brian De Palma</td>\n",
       "      <td>1940-09-11</td>\n",
       "      <td>38</td>\n",
       "    </tr>\n",
       "    <tr>\n",
       "      <td>631</td>\n",
       "      <td>Ridley Scott</td>\n",
       "      <td>1937-11-30</td>\n",
       "      <td>35</td>\n",
       "    </tr>\n",
       "    <tr>\n",
       "      <td>247</td>\n",
       "      <td>John Woo</td>\n",
       "      <td>1946-09-22</td>\n",
       "      <td>34</td>\n",
       "    </tr>\n",
       "    <tr>\n",
       "      <td>2588606</td>\n",
       "      <td>Steve McQueen</td>\n",
       "      <td>1969-10-09</td>\n",
       "      <td>31</td>\n",
       "    </tr>\n",
       "    <tr>\n",
       "      <td>600</td>\n",
       "      <td>Sam Raimi</td>\n",
       "      <td>1959-10-23</td>\n",
       "      <td>31</td>\n",
       "    </tr>\n",
       "    <tr>\n",
       "      <td>406</td>\n",
       "      <td>John Ford</td>\n",
       "      <td>None</td>\n",
       "      <td>20</td>\n",
       "    </tr>\n",
       "    <tr>\n",
       "      <td>1392</td>\n",
       "      <td>Peter Jackson</td>\n",
       "      <td>1961-10-31</td>\n",
       "      <td>19</td>\n",
       "    </tr>\n",
       "    <tr>\n",
       "      <td>965</td>\n",
       "      <td>Danny Boyle</td>\n",
       "      <td>1956-10-20</td>\n",
       "      <td>18</td>\n",
       "    </tr>\n",
       "    <tr>\n",
       "      <td>233</td>\n",
       "      <td>Quentin Tarantino</td>\n",
       "      <td>1963-03-27</td>\n",
       "      <td>14</td>\n",
       "    </tr>\n",
       "    <tr>\n",
       "      <td>116</td>\n",
       "      <td>James Cameron</td>\n",
       "      <td>1954-08-16</td>\n",
       "      <td>14</td>\n",
       "    </tr>\n",
       "    <tr>\n",
       "      <td>250445</td>\n",
       "      <td>Walter Edwards</td>\n",
       "      <td>None</td>\n",
       "      <td>14</td>\n",
       "    </tr>\n",
       "    <tr>\n",
       "      <td>102908</td>\n",
       "      <td>Robert N. Bradbury</td>\n",
       "      <td>None</td>\n",
       "      <td>13</td>\n",
       "    </tr>\n",
       "    <tr>\n",
       "      <td>634240</td>\n",
       "      <td>Christopher Nolan</td>\n",
       "      <td>1970-07-30</td>\n",
       "      <td>13</td>\n",
       "    </tr>\n",
       "    <tr>\n",
       "      <td>94435</td>\n",
       "      <td>Bong Joon Ho</td>\n",
       "      <td>1969-09-14</td>\n",
       "      <td>12</td>\n",
       "    </tr>\n",
       "    <tr>\n",
       "      <td>1053</td>\n",
       "      <td>Ethan Coen</td>\n",
       "      <td>1957-09-21</td>\n",
       "      <td>12</td>\n",
       "    </tr>\n",
       "    <tr>\n",
       "      <td>1054</td>\n",
       "      <td>Joel Coen</td>\n",
       "      <td>1954-11-29</td>\n",
       "      <td>11</td>\n",
       "    </tr>\n",
       "  </tbody>\n",
       "</table>\n",
       "</div>"
      ],
      "text/plain": [
       "                       name   birthdate  movie_count\n",
       "id                                                  \n",
       "33         Alfred Hitchcock  1899-08-13           60\n",
       "217         Martin Scorsese  1942-11-17           48\n",
       "229        Steven Spielberg  1946-12-18           41\n",
       "142          Clint Eastwood  1930-05-31           39\n",
       "361          Brian De Palma  1940-09-11           38\n",
       "631            Ridley Scott  1937-11-30           35\n",
       "247                John Woo  1946-09-22           34\n",
       "2588606       Steve McQueen  1969-10-09           31\n",
       "600               Sam Raimi  1959-10-23           31\n",
       "406               John Ford        None           20\n",
       "1392          Peter Jackson  1961-10-31           19\n",
       "965             Danny Boyle  1956-10-20           18\n",
       "233       Quentin Tarantino  1963-03-27           14\n",
       "116           James Cameron  1954-08-16           14\n",
       "250445       Walter Edwards        None           14\n",
       "102908   Robert N. Bradbury        None           13\n",
       "634240    Christopher Nolan  1970-07-30           13\n",
       "94435          Bong Joon Ho  1969-09-14           12\n",
       "1053             Ethan Coen  1957-09-21           12\n",
       "1054              Joel Coen  1954-11-29           11"
      ]
     },
     "execution_count": 49,
     "metadata": {},
     "output_type": "execute_result"
    }
   ],
   "source": [
    "# def fromisoformat_or_none(dt):\n",
    "#    return date.fromisoformat(bd) if bd is not None else None\n",
    "\n",
    "dfStatsMovieByDirector.birthdate = dfStatsMovieByDirector.birthdate.apply(\n",
    "    lambda bd: date.fromisoformat(bd) if bd is not None else None)\n",
    "dfStatsMovieByDirector"
   ]
  },
  {
   "cell_type": "code",
   "execution_count": 50,
   "metadata": {},
   "outputs": [
    {
     "data": {
      "text/plain": [
       "datetime.date(1899, 8, 13)"
      ]
     },
     "execution_count": 50,
     "metadata": {},
     "output_type": "execute_result"
    }
   ],
   "source": [
    "dfStatsMovieByDirector.loc[33].birthdate"
   ]
  },
  {
   "cell_type": "code",
   "execution_count": 54,
   "metadata": {},
   "outputs": [
    {
     "data": {
      "text/html": [
       "<div>\n",
       "<style scoped>\n",
       "    .dataframe tbody tr th:only-of-type {\n",
       "        vertical-align: middle;\n",
       "    }\n",
       "\n",
       "    .dataframe tbody tr th {\n",
       "        vertical-align: top;\n",
       "    }\n",
       "\n",
       "    .dataframe thead th {\n",
       "        text-align: right;\n",
       "    }\n",
       "</style>\n",
       "<table border=\"1\" class=\"dataframe\">\n",
       "  <thead>\n",
       "    <tr style=\"text-align: right;\">\n",
       "      <th></th>\n",
       "      <th>name</th>\n",
       "      <th>birthdate</th>\n",
       "    </tr>\n",
       "    <tr>\n",
       "      <th>id</th>\n",
       "      <th></th>\n",
       "      <th></th>\n",
       "    </tr>\n",
       "  </thead>\n",
       "  <tbody>\n",
       "    <tr>\n",
       "      <td>1</td>\n",
       "      <td>Fred Astaire</td>\n",
       "      <td>1899-01-01</td>\n",
       "    </tr>\n",
       "    <tr>\n",
       "      <td>2</td>\n",
       "      <td>Lauren Bacall</td>\n",
       "      <td>1924-01-01</td>\n",
       "    </tr>\n",
       "    <tr>\n",
       "      <td>3</td>\n",
       "      <td>Brigitte Bardot</td>\n",
       "      <td>1934-01-01</td>\n",
       "    </tr>\n",
       "    <tr>\n",
       "      <td>4</td>\n",
       "      <td>John Belushi</td>\n",
       "      <td>NaT</td>\n",
       "    </tr>\n",
       "    <tr>\n",
       "      <td>6</td>\n",
       "      <td>Ingrid Bergman</td>\n",
       "      <td>1915-01-01</td>\n",
       "    </tr>\n",
       "    <tr>\n",
       "      <td>...</td>\n",
       "      <td>...</td>\n",
       "      <td>...</td>\n",
       "    </tr>\n",
       "    <tr>\n",
       "      <td>1480</td>\n",
       "      <td>Shelley Long</td>\n",
       "      <td>NaT</td>\n",
       "    </tr>\n",
       "    <tr>\n",
       "      <td>1484</td>\n",
       "      <td>Jon Lovitz</td>\n",
       "      <td>1957-01-01</td>\n",
       "    </tr>\n",
       "    <tr>\n",
       "      <td>1485</td>\n",
       "      <td>Myrna Loy</td>\n",
       "      <td>1905-01-01</td>\n",
       "    </tr>\n",
       "    <tr>\n",
       "      <td>1486</td>\n",
       "      <td>Sidney Lumet</td>\n",
       "      <td>NaT</td>\n",
       "    </tr>\n",
       "    <tr>\n",
       "      <td>1489</td>\n",
       "      <td>Paul Lynde</td>\n",
       "      <td>1926-01-01</td>\n",
       "    </tr>\n",
       "  </tbody>\n",
       "</table>\n",
       "<p>1000 rows × 2 columns</p>\n",
       "</div>"
      ],
      "text/plain": [
       "                 name  birthdate\n",
       "id                              \n",
       "1        Fred Astaire 1899-01-01\n",
       "2       Lauren Bacall 1924-01-01\n",
       "3     Brigitte Bardot 1934-01-01\n",
       "4        John Belushi        NaT\n",
       "6      Ingrid Bergman 1915-01-01\n",
       "...               ...        ...\n",
       "1480     Shelley Long        NaT\n",
       "1484       Jon Lovitz 1957-01-01\n",
       "1485        Myrna Loy 1905-01-01\n",
       "1486     Sidney Lumet        NaT\n",
       "1489       Paul Lynde 1926-01-01\n",
       "\n",
       "[1000 rows x 2 columns]"
      ]
     },
     "execution_count": 54,
     "metadata": {},
     "output_type": "execute_result"
    }
   ],
   "source": [
    "# other idea: instead of apply read column birthdate as datetime64 (NaT)\n",
    "limit = 1000\n",
    "dfStars = pd.read_json(f'http://localhost:8000/stars?limit={limit}', convert_dates=['birthdate'])\n",
    "dfStars.set_index('id', inplace=True)\n",
    "dfStars"
   ]
  },
  {
   "cell_type": "code",
   "execution_count": null,
   "metadata": {},
   "outputs": [],
   "source": [
    "df"
   ]
  },
  {
   "cell_type": "code",
   "execution_count": null,
   "metadata": {},
   "outputs": [],
   "source": [
    "dfStars=pd.read_json(f'http://localhost:8000/stars', convert_dates=['birthdate'])\n",
    "dfStars.set_index('id',inplace=True)\n",
    "dfStars"
   ]
  },
  {
   "cell_type": "code",
   "execution_count": null,
   "metadata": {},
   "outputs": [],
   "source": [
    "year = 1962\n",
    "dfStars=pd.read_json(f'http://localhost:8000/stars/by_birthyear/{year}', convert_dates=['birthdate'])\n",
    "dfStars.set_index('id',inplace=True)\n",
    "dfStars"
   ]
  },
  {
   "cell_type": "code",
   "execution_count": null,
   "metadata": {},
   "outputs": [],
   "source": [
    "title = 'Star'\n",
    "dfStars=pd.read_json('http://localhost:8000/movies/by_title_part?t=' + title, convert_dates=['birthdate'])\n",
    "dfStars.set_index('id',inplace=True)\n",
    "dfStars"
   ]
  },
  {
   "cell_type": "code",
   "execution_count": null,
   "metadata": {},
   "outputs": [],
   "source": [
    "response = requests.get('http://localhost:8000/stars/count_by_stars/')\n",
    "data_json = response.json()"
   ]
  },
  {
   "cell_type": "code",
   "execution_count": null,
   "metadata": {},
   "outputs": [],
   "source": [
    "data_flatten = [ {**director_dict, 'nb_film': nb_film, 'pfilm': pfilm, 'dfilm': dfilm}  \n",
    "         for director_dict, nb_film, pfilm, dfilm in data_json ]"
   ]
  },
  {
   "cell_type": "code",
   "execution_count": null,
   "metadata": {},
   "outputs": [],
   "source": [
    "dfStatsByStars = pd.DataFrame(data_flatten)\n",
    "dfStatsByStars.head(15)"
   ]
  },
  {
   "cell_type": "code",
   "execution_count": null,
   "metadata": {},
   "outputs": [],
   "source": [
    "dfCountMovieByYear=pd.read_json(\"http://localhost:8000/movies/stats_by_year%22)\n",
    "dfCountMovieByYear\n"
   ]
  },
  {
   "cell_type": "code",
   "execution_count": null,
   "metadata": {},
   "outputs": [],
   "source": [
    "dfCountMovieByYearGraph=dfCountMovieByYear[dfCountMovieByYear.counter > 15][['year','counter']].set_index('year').plot()\n",
    "dfCountMovieByYearGraph.set_title('movies by year')\n",
    "dfCountMovieByYearGraph.set_xlabel('year')\n",
    "dfCountMovieByYearGraph.set_ylabel('count')\n",
    "dfCountMovieByYearGraph.set_xlim(1970,2020)"
   ]
  },
  {
   "cell_type": "code",
   "execution_count": null,
   "metadata": {},
   "outputs": [],
   "source": [
    "dfStatMovie=pd.read_json('http://localhost:8000/movies/count_by_year')\n",
    "dfStatMovie.columns=['year', 'counts']\n",
    "dfStatMovieGraph = dfStatMovie[dfStatMovie.counts > 15].set_index('year')\n",
    "dfStatMovieGraph.plot()"
   ]
  },
  {
   "cell_type": "code",
   "execution_count": null,
   "metadata": {},
   "outputs": [],
   "source": [
    "dfStars = pd.read_json('http://localhost:8000/stars', convert_dates = ['birthdate'])\n",
    "dfStars.set_index('id',inplace=True)\n",
    "dfStars['year'] = dfStars.birthdate.dt.year\n",
    "dfCountNameByY = dfStars[['year','name']].groupby(['year']).count()\n",
    "dfCountNameByY\n",
    "plt.plot(dfCountNameByY.index, dfCountNameByY.name)\n",
    "plt.ylabel('Stars Born')"
   ]
  },
  {
   "cell_type": "code",
   "execution_count": null,
   "metadata": {},
   "outputs": [],
   "source": [
    "dfTop10 = dfStatsByStars.head(10)\n",
    "dfTop10"
   ]
  },
  {
   "cell_type": "code",
   "execution_count": null,
   "metadata": {},
   "outputs": [],
   "source": [
    "dfTop10ByNb = dfTop10[['name','nb_film']]\n",
    "dfTop10ByNb.set_index('name',inplace=True)\n",
    "plt.bar(dfTop10ByNb.index, dfTop10ByNb.nb_film)\n",
    "plt.ylabel('Nombre de film')\n",
    "plt.xticks(rotation = 90)\n",
    "dfTop10ByNb.index.to_list()"
   ]
  },
  {
   "cell_type": "code",
   "execution_count": null,
   "metadata": {},
   "outputs": [],
   "source": [
    "fig = plt.figure()\n",
    "N = 10\n",
    "w = 0.35\n",
    "\n",
    "x = np.arange(N)\n",
    "ax = fig.add_subplot(111)\n",
    "\n",
    "\n",
    "rect1 = ax.bar(x, dfTop10.pfilm, w,  color ='b')\n",
    "rect2 = ax.bar(x + w, dfTop10.dfilm, w,  color ='g')\n",
    "\n",
    "plt.ylim(min(dfTop10.pfilm)-20, max(dfTop10.dfilm)+20)\n",
    "ax.set_xticks(x + w/2)\n",
    "ax.set_xticklabels(dfTop10ByNb.index.to_list())\n",
    "plt.xticks(rotation = 90)\n",
    "plt.legend(['Date premier film', 'Date dernier film'])\n",
    "plt.show()"
   ]
  },
  {
   "cell_type": "code",
   "execution_count": null,
   "metadata": {},
   "outputs": [],
   "source": []
  }
 ],
 "metadata": {
  "kernelspec": {
   "display_name": "Python 3",
   "language": "python",
   "name": "python3"
  },
  "language_info": {
   "codemirror_mode": {
    "name": "ipython",
    "version": 3
   },
   "file_extension": ".py",
   "mimetype": "text/x-python",
   "name": "python",
   "nbconvert_exporter": "python",
   "pygments_lexer": "ipython3",
   "version": "3.8.3"
  }
 },
 "nbformat": 4,
 "nbformat_minor": 4
}
